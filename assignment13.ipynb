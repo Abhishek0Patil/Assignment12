{
 "cells": [
  {
   "cell_type": "markdown",
   "id": "50c40f0d-4db3-44b7-bffe-677e9e65358e",
   "metadata": {},
   "source": [
    "A database is a structured collection of data that is organized in a way that allows for efficient storage, retrieval, and manipulation of that data."
   ]
  },
  {
   "cell_type": "markdown",
   "id": "46837076-cc32-4d51-b070-2b23f602c32e",
   "metadata": {},
   "source": [
    "SQL Databases:\n",
    "\n",
    "Structured Data: SQL databases are primarily designed for structured data, which means data that fits neatly into tables with rows and columns. They are based on a fixed schema, where the structure of the data is defined before data is inserted.\n",
    "\n",
    "ACID Compliance: SQL databases are known for their strong consistency and ACID (Atomicity, Consistency, Isolation, Durability) compliance. This ensures that transactions are processed reliably, and data integrity is maintained, even in the face of failures.\n",
    "\n",
    "Relational Model: SQL databases follow a relational model, where data is organized into tables with defined relationships between them. This allows for complex queries and data manipulation using SQL queries.\n",
    "\n",
    "Vertical Scalability: SQL databases are typically scaled vertically, which means you can increase their capacity by adding more resources to a single server (e.g., CPU, RAM, storage). This can be expensive and may have limits.\n",
    "\n",
    "Examples: MySQL, PostgreSQL, Oracle, Microsoft SQL Server are examples of SQL databases.\n",
    "\n",
    "NoSQL Databases:\n",
    "\n",
    "Flexible Schema: NoSQL databases are designed for semi-structured or unstructured data. They can handle data that doesn't fit neatly into tables and can adapt to changing data structures. They often use a schema-less or schema-flexible approach.\n",
    "\n",
    "BASE Semantics: NoSQL databases follow BASE (Basically Available, Soft state, Eventually consistent) semantics, which prioritize availability and partition tolerance over strong consistency. This makes them suitable for distributed systems and high scalability.\n",
    "\n",
    "Non-relational Model: NoSQL databases come in various models, including document-oriented, key-value, column-family, and graph databases. Each model is optimized for specific types of data and use cases.\n",
    "\n",
    "Horizontal Scalability: NoSQL databases are typically scaled horizontally, allowing you to add more servers to a distributed cluster to handle increased workloads. This approach is often more cost-effective for handling large-scale data.\n",
    "\n",
    "Examples: MongoDB (document-oriented), Cassandra (column-family), Redis (key-value), and Neo4j (graph) are examples of NoSQL databases."
   ]
  },
  {
   "cell_type": "markdown",
   "id": "6fcb5b89-8205-4735-ae4f-04e390f0b8a4",
   "metadata": {},
   "source": [
    "DDL, or Data Definition Language, is a subset of SQL (Structured Query Language) used for defining and managing the structure or schema of a database. DDL statements are responsible for creating, altering, and deleting database objects like tables, indexes, and constraints. DDL commands include CREATE, DROP, ALTER, and TRUNCATE, among others."
   ]
  },
  {
   "cell_type": "markdown",
   "id": "1722aa80-2cf9-4cd6-b891-b509a55bf1df",
   "metadata": {},
   "source": [
    "1.CREATE:\n",
    "\n",
    "The CREATE statement is used to create new database objects, such as tables, indexes, views, or schemas.\n",
    "Example: Creating a new table named \"Employees\" with columns for employee information"
   ]
  },
  {
   "cell_type": "code",
   "execution_count": null,
   "id": "52841841-ff8a-445d-b3bc-6351865c36a8",
   "metadata": {},
   "outputs": [],
   "source": [
    "CREATE TABLE Employees (\n",
    "    EmployeeID INT PRIMARY KEY,\n",
    "    FirstName VARCHAR(50),\n",
    "    LastName VARCHAR(50),\n",
    "    Salary DECIMAL(10, 2)\n",
    ");"
   ]
  },
  {
   "cell_type": "markdown",
   "id": "c5d5010f-aaa7-4ee5-b539-084664ae654f",
   "metadata": {},
   "source": [
    "DROP:\n",
    "\n",
    "The DROP statement is used to delete existing database objects, such as tables, indexes, or views. Be cautious when using DROP, as it permanently deletes data.\n",
    "Example: Dropping the \"Employees\" table."
   ]
  },
  {
   "cell_type": "code",
   "execution_count": null,
   "id": "baea70c9-5c52-440f-af9c-761983b656b9",
   "metadata": {},
   "outputs": [],
   "source": [
    "DROP TABLE Employees;"
   ]
  },
  {
   "cell_type": "markdown",
   "id": "2c9b3783-d928-4336-90aa-e9368fa9ce25",
   "metadata": {},
   "source": [
    "ALTER:\n",
    "\n",
    "The ALTER statement is used to modify the structure of an existing database object. It can be used to add, modify, or delete columns, constraints, or indexes.\n",
    "Example: Adding a new column \"Email\" to the \"Employees\" table."
   ]
  },
  {
   "cell_type": "code",
   "execution_count": null,
   "id": "150e8c99-7b12-408b-9331-40dee54c7a56",
   "metadata": {},
   "outputs": [],
   "source": [
    "ALTER TABLE Employees\n",
    "ADD Email VARCHAR(100);"
   ]
  },
  {
   "cell_type": "markdown",
   "id": "4cda5fcd-5aeb-4c3e-92f9-fc6cc6ea2b96",
   "metadata": {},
   "source": [
    "TRUNCATE:\n",
    "\n",
    "The TRUNCATE statement is used to remove all rows from a table quickly. Unlike DELETE, it doesn't log individual row deletions and is often faster for large-scale data removal.\n",
    "Example: Truncating the \"Employees\" table to remove all employee records."
   ]
  },
  {
   "cell_type": "code",
   "execution_count": null,
   "id": "540f996c-eec7-4a1f-b487-257a86690ebc",
   "metadata": {},
   "outputs": [],
   "source": [
    "TRUNCATE TABLE Employees;"
   ]
  },
  {
   "cell_type": "markdown",
   "id": "aaff6720-64e8-411c-a6e8-603097486d03",
   "metadata": {},
   "source": [
    "DML, or Data Manipulation Language, is a subset of SQL (Structured Query Language) used for managing and manipulating the data within a database. DML statements are responsible for inserting, updating, and deleting data in database tables. The three primary DML commands are INSERT, UPDATE, and DELETE. "
   ]
  },
  {
   "cell_type": "markdown",
   "id": "44cbf6e3-09d6-472f-8340-5994f3326ca3",
   "metadata": {},
   "source": [
    "1.INSERT:\n",
    "\n",
    "The INSERT statement is used to add new rows (records) of data into a database table.\n",
    "Example: Inserting a new employee record into an \"Employees\" table."
   ]
  },
  {
   "cell_type": "code",
   "execution_count": null,
   "id": "3d8d542e-9401-434b-8aed-835b84029c15",
   "metadata": {},
   "outputs": [],
   "source": [
    "INSERT INTO Employees (EmployeeID, FirstName, LastName, Salary)\n",
    "VALUES (1, 'John', 'Doe', 50000.00);"
   ]
  },
  {
   "cell_type": "markdown",
   "id": "34206c86-6aa5-4256-9be9-708e24c8c6ef",
   "metadata": {},
   "source": [
    "2.UPDATE:\n",
    "\n",
    "The UPDATE statement is used to modify existing data in a database table.\n",
    "Example: Updating the salary of an employee in the \"Employees\" table."
   ]
  },
  {
   "cell_type": "code",
   "execution_count": null,
   "id": "15e5bcee-948f-429e-ad78-6bc86c1132d3",
   "metadata": {},
   "outputs": [],
   "source": [
    "UPDATE Employees\n",
    "SET Salary = 55000.00\n",
    "WHERE EmployeeID = 1;"
   ]
  },
  {
   "cell_type": "markdown",
   "id": "10ae0ecf-776c-41d6-9c2b-e642e4a2c03a",
   "metadata": {},
   "source": [
    "3.DELETE:\n",
    "\n",
    "The DELETE statement is used to remove one or more rows from a database table.\n",
    "Example: Deleting an employee record from the \"Employees\" table."
   ]
  },
  {
   "cell_type": "code",
   "execution_count": null,
   "id": "aa2c4d66-1881-4d4b-832d-971a79553d9c",
   "metadata": {},
   "outputs": [],
   "source": [
    "DELETE FROM Employees\n",
    "WHERE EmployeeID = 1;"
   ]
  },
  {
   "cell_type": "markdown",
   "id": "ff32b077-05f6-4d80-8e30-a4c6573527a7",
   "metadata": {},
   "source": [
    "DQL, or Data Query Language, is a subset of SQL (Structured Query Language) used for querying and retrieving data from a database. The primary DQL command is SELECT, which allows you to retrieve specific data from one or more database tables"
   ]
  },
  {
   "cell_type": "markdown",
   "id": "f7ba7469-8cb3-446e-a73e-3f8d895439a1",
   "metadata": {},
   "source": [
    "1.SELECT:\n",
    "\n",
    "The SELECT statement is used to query data from a database table or tables. It allows you to specify the columns you want to retrieve, filter the rows you want to retrieve, and define the order of the results.\n",
    "Example: Retrieving employee names and salaries from an \"Employees\" table:"
   ]
  },
  {
   "cell_type": "code",
   "execution_count": null,
   "id": "ba6b0e62-cb32-49ee-b585-561c20bc2aea",
   "metadata": {},
   "outputs": [],
   "source": [
    "SELECT FirstName, LastName, Salary\n",
    "FROM Employees;"
   ]
  },
  {
   "cell_type": "markdown",
   "id": "86b30003-f711-4952-bee4-e6367af10452",
   "metadata": {},
   "source": [
    "Primary Key and Foreign Key are two important concepts in relational databases that define relationships between tables and ensure data integrity. They are used to establish and enforce constraints on the data within a database.\n",
    "\n",
    "Primary Key:\n",
    "A Primary Key is a column or a set of columns in a database table that uniquely identifies each row or record in that table. Here are some key points about Primary Keys:\n",
    "\n",
    "Uniqueness: A Primary Key must contain unique values for each row in the table. No two rows can have the same values in the Primary Key column(s).\n",
    "\n",
    "Uniqueness Enforcement: The database management system (DBMS) automatically enforces the uniqueness of the Primary Key values, preventing duplicate entries.\n",
    "\n",
    "Not Null: A Primary Key column cannot contain NULL values. Every row must have a valid, non-null value in the Primary Key column(s).\n",
    "\n",
    "Indexing: Typically, Primary Keys are automatically indexed by the DBMS for faster data retrieval.\n",
    "\n",
    "Identification: Primary Keys are used to uniquely identify records in the table and establish relationships with other tables in the database.\n",
    "\n",
    "Example:\n",
    "Consider an \"Employees\" table with an \"EmployeeID\" column as the Primary Key. Each employee is uniquely identified by their EmployeeID, and this constraint ensures that there are no duplicate EmployeeIDs in the table.\n",
    "\n",
    "Foreign Key:\n",
    "A Foreign Key is a column or a set of columns in one table that is used to establish a link between the data in two tables. It creates a relationship between tables based on the values in the Foreign Key and the Primary Key in another table. Here are some key points about Foreign Keys:\n",
    "\n",
    "Referential Integrity: Foreign Keys enforce referential integrity, which means they ensure that the values in the Foreign Key column(s) correspond to values in the Primary Key column(s) of another table.\n",
    "\n",
    "Relationships: Foreign Keys are used to establish relationships between tables. They define how data in one table is related to data in another table.\n",
    "\n",
    "Data Consistency: Foreign Keys help maintain data consistency by preventing the insertion of rows with Foreign Key values that do not exist in the referenced table's Primary Key.\n",
    "\n",
    "Cascading Actions: DBMS systems can be configured to perform cascading actions when changes are made to records in the referenced table. For example, you can specify that when a referenced record is deleted, all related records in other tables should also be deleted (CASCADE DELETE).\n",
    "\n",
    "Example:\n",
    "In a database that stores information about customers and their orders, a \"CustomerID\" column in the \"Orders\" table can be a Foreign Key that references the \"CustomerID\" Primary Key in the \"Customers\" table. This establishes a relationship between orders and customers, ensuring that each order is associated with a valid customer."
   ]
  },
  {
   "cell_type": "code",
   "execution_count": 1,
   "id": "e564c291-d1ec-4121-9653-0f26fca08ed2",
   "metadata": {},
   "outputs": [
    {
     "name": "stdout",
     "output_type": "stream",
     "text": [
      "Collecting mysql-connector-python\n",
      "  Downloading mysql_connector_python-8.1.0-cp310-cp310-manylinux_2_17_x86_64.whl (27.5 MB)\n",
      "\u001b[2K     \u001b[90m━━━━━━━━━━━━━━━━━━━━━━━━━━━━━━━━━━━━━━━━\u001b[0m \u001b[32m27.5/27.5 MB\u001b[0m \u001b[31m49.0 MB/s\u001b[0m eta \u001b[36m0:00:00\u001b[0m00:01\u001b[0m00:01\u001b[0m\n",
      "\u001b[?25hRequirement already satisfied: protobuf<=4.21.12,>=4.21.1 in /opt/conda/lib/python3.10/site-packages (from mysql-connector-python) (4.21.11)\n",
      "Installing collected packages: mysql-connector-python\n",
      "Successfully installed mysql-connector-python-8.1.0\n",
      "Note: you may need to restart the kernel to use updated packages.\n"
     ]
    }
   ],
   "source": [
    "pip install mysql-connector-python"
   ]
  },
  {
   "cell_type": "code",
   "execution_count": 3,
   "id": "bac5025b-76d2-4144-9b8d-a30ca2c554a7",
   "metadata": {},
   "outputs": [
    {
     "ename": "DatabaseError",
     "evalue": "2003 (HY000): Can't connect to MySQL server on 'localhost:3306' (99)",
     "output_type": "error",
     "traceback": [
      "\u001b[0;31m---------------------------------------------------------------------------\u001b[0m",
      "\u001b[0;31mMySQLInterfaceError\u001b[0m                       Traceback (most recent call last)",
      "File \u001b[0;32m/opt/conda/lib/python3.10/site-packages/mysql/connector/connection_cext.py:302\u001b[0m, in \u001b[0;36mCMySQLConnection._open_connection\u001b[0;34m(self)\u001b[0m\n\u001b[1;32m    301\u001b[0m \u001b[38;5;28;01mtry\u001b[39;00m:\n\u001b[0;32m--> 302\u001b[0m     \u001b[38;5;28;43mself\u001b[39;49m\u001b[38;5;241;43m.\u001b[39;49m\u001b[43m_cmysql\u001b[49m\u001b[38;5;241;43m.\u001b[39;49m\u001b[43mconnect\u001b[49m\u001b[43m(\u001b[49m\u001b[38;5;241;43m*\u001b[39;49m\u001b[38;5;241;43m*\u001b[39;49m\u001b[43mcnx_kwargs\u001b[49m\u001b[43m)\u001b[49m\n\u001b[1;32m    303\u001b[0m     \u001b[38;5;28mself\u001b[39m\u001b[38;5;241m.\u001b[39m_cmysql\u001b[38;5;241m.\u001b[39mconverter_str_fallback \u001b[38;5;241m=\u001b[39m \u001b[38;5;28mself\u001b[39m\u001b[38;5;241m.\u001b[39m_converter_str_fallback\n",
      "\u001b[0;31mMySQLInterfaceError\u001b[0m: Can't connect to MySQL server on 'localhost:3306' (99)",
      "\nThe above exception was the direct cause of the following exception:\n",
      "\u001b[0;31mDatabaseError\u001b[0m                             Traceback (most recent call last)",
      "Cell \u001b[0;32mIn[3], line 2\u001b[0m\n\u001b[1;32m      1\u001b[0m \u001b[38;5;28;01mimport\u001b[39;00m \u001b[38;5;21;01mmysql\u001b[39;00m\u001b[38;5;21;01m.\u001b[39;00m\u001b[38;5;21;01mconnector\u001b[39;00m\n\u001b[0;32m----> 2\u001b[0m mydb \u001b[38;5;241m=\u001b[39m \u001b[43mmysql\u001b[49m\u001b[38;5;241;43m.\u001b[39;49m\u001b[43mconnector\u001b[49m\u001b[38;5;241;43m.\u001b[39;49m\u001b[43mconnect\u001b[49m\u001b[43m(\u001b[49m\n\u001b[1;32m      3\u001b[0m \u001b[43m  \u001b[49m\u001b[43mhost\u001b[49m\u001b[38;5;241;43m=\u001b[39;49m\u001b[38;5;124;43m\"\u001b[39;49m\u001b[38;5;124;43mlocalhost\u001b[39;49m\u001b[38;5;124;43m\"\u001b[39;49m\u001b[43m,\u001b[49m\n\u001b[1;32m      4\u001b[0m \u001b[43m  \u001b[49m\u001b[43muser\u001b[49m\u001b[38;5;241;43m=\u001b[39;49m\u001b[38;5;124;43m\"\u001b[39;49m\u001b[38;5;124;43mabc\u001b[39;49m\u001b[38;5;124;43m\"\u001b[39;49m\u001b[43m,\u001b[49m\n\u001b[1;32m      5\u001b[0m \u001b[43m  \u001b[49m\u001b[43mpassword\u001b[49m\u001b[38;5;241;43m=\u001b[39;49m\u001b[38;5;124;43m\"\u001b[39;49m\u001b[38;5;124;43mpassword\u001b[39;49m\u001b[38;5;124;43m\"\u001b[39;49m\n\u001b[1;32m      6\u001b[0m \u001b[43m)\u001b[49m\n\u001b[1;32m      7\u001b[0m mycursor \u001b[38;5;241m=\u001b[39m mydb\u001b[38;5;241m.\u001b[39mcursor()\n\u001b[1;32m      8\u001b[0m mycursor\u001b[38;5;241m.\u001b[39mexecute(\u001b[38;5;124m\"\u001b[39m\u001b[38;5;124mSELECT * FROM your_table_name\u001b[39m\u001b[38;5;124m\"\u001b[39m)\n",
      "File \u001b[0;32m/opt/conda/lib/python3.10/site-packages/mysql/connector/pooling.py:293\u001b[0m, in \u001b[0;36mconnect\u001b[0;34m(*args, **kwargs)\u001b[0m\n\u001b[1;32m    290\u001b[0m         \u001b[38;5;28;01mraise\u001b[39;00m \u001b[38;5;167;01mImportError\u001b[39;00m(ERROR_NO_CEXT)\n\u001b[1;32m    292\u001b[0m \u001b[38;5;28;01mif\u001b[39;00m CMySQLConnection \u001b[38;5;129;01mand\u001b[39;00m \u001b[38;5;129;01mnot\u001b[39;00m use_pure:\n\u001b[0;32m--> 293\u001b[0m     \u001b[38;5;28;01mreturn\u001b[39;00m \u001b[43mCMySQLConnection\u001b[49m\u001b[43m(\u001b[49m\u001b[38;5;241;43m*\u001b[39;49m\u001b[43margs\u001b[49m\u001b[43m,\u001b[49m\u001b[43m \u001b[49m\u001b[38;5;241;43m*\u001b[39;49m\u001b[38;5;241;43m*\u001b[39;49m\u001b[43mkwargs\u001b[49m\u001b[43m)\u001b[49m\n\u001b[1;32m    294\u001b[0m \u001b[38;5;28;01mreturn\u001b[39;00m MySQLConnection(\u001b[38;5;241m*\u001b[39margs, \u001b[38;5;241m*\u001b[39m\u001b[38;5;241m*\u001b[39mkwargs)\n",
      "File \u001b[0;32m/opt/conda/lib/python3.10/site-packages/mysql/connector/connection_cext.py:128\u001b[0m, in \u001b[0;36mCMySQLConnection.__init__\u001b[0;34m(self, **kwargs)\u001b[0m\n\u001b[1;32m    126\u001b[0m \u001b[38;5;28;01mif\u001b[39;00m kwargs:\n\u001b[1;32m    127\u001b[0m     \u001b[38;5;28;01mtry\u001b[39;00m:\n\u001b[0;32m--> 128\u001b[0m         \u001b[38;5;28;43mself\u001b[39;49m\u001b[38;5;241;43m.\u001b[39;49m\u001b[43mconnect\u001b[49m\u001b[43m(\u001b[49m\u001b[38;5;241;43m*\u001b[39;49m\u001b[38;5;241;43m*\u001b[39;49m\u001b[43mkwargs\u001b[49m\u001b[43m)\u001b[49m\n\u001b[1;32m    129\u001b[0m     \u001b[38;5;28;01mexcept\u001b[39;00m \u001b[38;5;167;01mException\u001b[39;00m:\n\u001b[1;32m    130\u001b[0m         \u001b[38;5;28mself\u001b[39m\u001b[38;5;241m.\u001b[39mclose()\n",
      "File \u001b[0;32m/opt/conda/lib/python3.10/site-packages/mysql/connector/abstracts.py:1217\u001b[0m, in \u001b[0;36mMySQLConnectionAbstract.connect\u001b[0;34m(self, **kwargs)\u001b[0m\n\u001b[1;32m   1214\u001b[0m     \u001b[38;5;28mself\u001b[39m\u001b[38;5;241m.\u001b[39mconfig(\u001b[38;5;241m*\u001b[39m\u001b[38;5;241m*\u001b[39mkwargs)\n\u001b[1;32m   1216\u001b[0m \u001b[38;5;28mself\u001b[39m\u001b[38;5;241m.\u001b[39mdisconnect()\n\u001b[0;32m-> 1217\u001b[0m \u001b[38;5;28;43mself\u001b[39;49m\u001b[38;5;241;43m.\u001b[39;49m\u001b[43m_open_connection\u001b[49m\u001b[43m(\u001b[49m\u001b[43m)\u001b[49m\n\u001b[1;32m   1218\u001b[0m \u001b[38;5;66;03m# Server does not allow to run any other statement different from ALTER\u001b[39;00m\n\u001b[1;32m   1219\u001b[0m \u001b[38;5;66;03m# when user's password has been expired.\u001b[39;00m\n\u001b[1;32m   1220\u001b[0m \u001b[38;5;28;01mif\u001b[39;00m \u001b[38;5;129;01mnot\u001b[39;00m \u001b[38;5;28mself\u001b[39m\u001b[38;5;241m.\u001b[39m_client_flags \u001b[38;5;241m&\u001b[39m ClientFlag\u001b[38;5;241m.\u001b[39mCAN_HANDLE_EXPIRED_PASSWORDS:\n",
      "File \u001b[0;32m/opt/conda/lib/python3.10/site-packages/mysql/connector/connection_cext.py:307\u001b[0m, in \u001b[0;36mCMySQLConnection._open_connection\u001b[0;34m(self)\u001b[0m\n\u001b[1;32m    305\u001b[0m         \u001b[38;5;28mself\u001b[39m\u001b[38;5;241m.\u001b[39mconverter\u001b[38;5;241m.\u001b[39mstr_fallback \u001b[38;5;241m=\u001b[39m \u001b[38;5;28mself\u001b[39m\u001b[38;5;241m.\u001b[39m_converter_str_fallback\n\u001b[1;32m    306\u001b[0m \u001b[38;5;28;01mexcept\u001b[39;00m MySQLInterfaceError \u001b[38;5;28;01mas\u001b[39;00m err:\n\u001b[0;32m--> 307\u001b[0m     \u001b[38;5;28;01mraise\u001b[39;00m get_mysql_exception(\n\u001b[1;32m    308\u001b[0m         msg\u001b[38;5;241m=\u001b[39merr\u001b[38;5;241m.\u001b[39mmsg, errno\u001b[38;5;241m=\u001b[39merr\u001b[38;5;241m.\u001b[39merrno, sqlstate\u001b[38;5;241m=\u001b[39merr\u001b[38;5;241m.\u001b[39msqlstate\n\u001b[1;32m    309\u001b[0m     ) \u001b[38;5;28;01mfrom\u001b[39;00m \u001b[38;5;21;01merr\u001b[39;00m\n\u001b[1;32m    311\u001b[0m \u001b[38;5;28mself\u001b[39m\u001b[38;5;241m.\u001b[39m_do_handshake()\n",
      "\u001b[0;31mDatabaseError\u001b[0m: 2003 (HY000): Can't connect to MySQL server on 'localhost:3306' (99)"
     ]
    }
   ],
   "source": [
    "import mysql.connector\n",
    "\n",
    "db_config = {\n",
    "    \"host\": \"localhost\",        \n",
    "    \"user\": \"your_username\",    \n",
    "    \"password\": \"your_password\",\n",
    "    \"database\": \"your_db_name\"  \n",
    "}\n",
    "\n",
    "try:\n",
    "    connection = mysql.connector.connect(**db_config)\n",
    "\n",
    "    if connection.is_connected():\n",
    "        print(\"Connected to MySQL database\")\n",
    "        cursor = connection.cursor()\n",
    "        cursor.execute(\"SELECT * FROM your_table_name\") \n",
    "        rows = cursor.fetchall()\n",
    "\n",
    "        for row in rows:\n",
    "            print(row)\n",
    "\n",
    "except mysql.connector.Error as error:\n",
    "    print(\"Error connecting to MySQL:\", error)\n",
    "\n",
    "finally:\n",
    "    if 'connection' in locals():\n",
    "        connection.close()\n",
    "        print(\"MySQL connection closed\")"
   ]
  },
  {
   "cell_type": "markdown",
   "id": "27a61add-cacb-4fbd-ab9c-32faddc47b4b",
   "metadata": {},
   "source": [
    "1.cursor() Method:\n",
    "\n",
    "The cursor() method is used to create a cursor object associated with the database connection. A cursor is like a pointer or a handle that allows you to execute SQL queries and fetch results from the database.\n",
    "You can think of the cursor as a work area where you can execute SQL commands.\n",
    "In the code above, we create a cursor using cursor = connection.cursor().\n",
    "\n",
    "2.execute() Method:\n",
    "\n",
    "The execute() method is used to execute SQL queries or commands. You pass your SQL query as a string to this method.\n",
    "After calling execute(), the cursor is positioned at the first row of the result set (if applicable) or ready for further operations.\n",
    "In the code above, we execute the SQL query cursor.execute(sql_query) to fetch data from the database."
   ]
  },
  {
   "cell_type": "markdown",
   "id": "aac2d022-f86e-45cd-a057-21e197f4de73",
   "metadata": {},
   "source": [
    "In SQL, when you construct a query, the clauses are typically executed in a specific order, although some clauses can be omitted or rearranged depending on the query's purpose. Here's the typical order of execution for the clauses in an SQL query:\n",
    "\n",
    "SELECT: The SELECT clause is used to specify the columns you want to retrieve from one or more tables.\n",
    "\n",
    "FROM: The FROM clause specifies the table or tables from which you want to retrieve data. It defines the source of the data you are querying.\n",
    "\n",
    "JOIN: If your query involves multiple tables, you can use JOIN clauses to combine data from different tables based on specified join conditions.\n",
    "\n",
    "WHERE: The WHERE clause is used to filter rows based on specified conditions. It narrows down the results to only those rows that meet the specified criteria.\n",
    "\n",
    "GROUP BY: If you want to group rows based on the values in one or more columns, you can use the GROUP BY clause. This is often used in conjunction with aggregate functions like SUM, COUNT, AVG, etc.\n",
    "\n",
    "HAVING: The HAVING clause is used to filter grouped results based on specified conditions. It works similarly to the WHERE clause but operates on grouped data.\n",
    "\n",
    "ORDER BY: The ORDER BY clause specifies the order in which the results should be sorted, such as ascending or descending order based on one or more columns. It comes after the filtering and grouping operations.\n",
    "\n",
    "LIMIT (or equivalent): The LIMIT clause, or its equivalent in different database systems, limits the number of rows returned by the query. It is often used for pagination or to restrict the result set to a specific number of rows.\n",
    "\n",
    "OFFSET (optional): The OFFSET clause, when used with LIMIT, specifies the starting point from which to retrieve rows. It is also used for pagination to skip a certain number of rows before retrieving the next set.\n",
    "\n",
    "UNION (optional): The UNION clause is used to combine the results of two or more SELECT statements into a single result set. It's an optional clause and is used when you want to merge data from multiple queries."
   ]
  },
  {
   "cell_type": "code",
   "execution_count": null,
   "id": "84055e82-9d75-434b-9d73-ec7cf6797aa3",
   "metadata": {},
   "outputs": [],
   "source": []
  }
 ],
 "metadata": {
  "kernelspec": {
   "display_name": "Python 3 (ipykernel)",
   "language": "python",
   "name": "python3"
  },
  "language_info": {
   "codemirror_mode": {
    "name": "ipython",
    "version": 3
   },
   "file_extension": ".py",
   "mimetype": "text/x-python",
   "name": "python",
   "nbconvert_exporter": "python",
   "pygments_lexer": "ipython3",
   "version": "3.10.8"
  }
 },
 "nbformat": 4,
 "nbformat_minor": 5
}
